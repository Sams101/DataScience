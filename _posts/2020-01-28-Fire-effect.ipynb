{
 "cells": [
  {
   "cell_type": "markdown",
   "metadata": {},
   "source": [
    "# Fire Effect\n",
    "\n",
    "\n",
    "\n",
    "\n",
    "The buffer starts with every pixel at 0. \n",
    "\n",
    "Then at the bottom row, give a random value to each pixel, and keep changing the random values every frame.\n",
    "\n",
    "Each frame, calculate each row of pixels based on the two rows below it: the value of each pixel, becomes the sum of the 3 pixels below it (one directly below it, one to the left of this one, and one to the right of this one), and one pixel directly two rows below it. \n",
    "\n",
    "Then divide the sum by a value slightly larger than 4, so that the fire dies out as it rises. The larger the value you divide it by, the lower the flames can rise. \n",
    "\n",
    "\n",
    "Do this from top to bottom, if you do the calculations in the wrong order, some pixels will already be recalculated while other pixels that depend on them still have to be calculated. Each new frame may depend only on the values of the previous frame. The top of the screen has y-coordinate 0, and the bottom has y-coordinate h-1.\n",
    "\n",
    "On the sides of the screen, the pixels have no neighbors to the left or right anymore, and to overcome this, the effect can be made circular so that the rightmost pixel has the leftmost pixel as its neighbor and vica versa. For this, modulo division through the width of the screen can be used on the x-coordinate of the neighbors.\n",
    "\n",
    "The version of the effect here isn't very fast at high resolutions, but there's still set a maximum number of frames per second by using the waitFrame function, so that it won't run too fast on faster computers in the future.\n",
    "\n",
    "Because we have a fire buffer, we can use the drawBuffer function instead of drawing each pixel separately, which is much faster. The buffer that gets drawn isn't the same as the fire array though, because that one has values from 0 to 256, which gives the wrong colors. Instead we create a new buffer and store the RGB color gotten from the palette in it, and then draw this buffer (which also has the name \"buffer\" here).\n",
    "\n",
    "\n",
    "### Reference:\n",
    "- https://lodev.org/cgtutor/fire.html\n"
   ]
  },
  {
   "cell_type": "code",
   "execution_count": 1,
   "metadata": {},
   "outputs": [],
   "source": [
    "import numpy as np\n",
    "import seaborn as sns\n",
    "from celluloid import Camera\n",
    "from IPython.display import HTML\n",
    "import matplotlib.pyplot as plt\n",
    "import time\n"
   ]
  },
  {
   "cell_type": "code",
   "execution_count": 2,
   "metadata": {},
   "outputs": [],
   "source": [
    "# Functions\n",
    "\n",
    "# calculate individual particle\n",
    "def calc_particle_value(array, row, col, fourish):\n",
    "    '''Function to calculate value of current pixel based on two pixels directly below plus below left/right pixel.\n",
    "    Then divide sum of this by value slightly larger than 4'''\n",
    "        # Two_below\n",
    "    if row+2 >  array.shape[0] - 1:\n",
    "        two_below = 0\n",
    "    else:\n",
    "        two_below = array[row+2, col]\n",
    "\n",
    "    # One_below\n",
    "    one_below = array[row+1,col]\n",
    "\n",
    "    # One_below_left\n",
    "    one_below_left = array[row+1, col-1]\n",
    "\n",
    "    # One_below_right\n",
    "    if col+1 > array.shape[1] -1:\n",
    "        one_below_right = array[row+1, 0]\n",
    "    else:\n",
    "        one_below_right = array[row+1, col+1]\n",
    "\n",
    "    summed_particles = two_below + one_below + one_below_left + one_below_right\n",
    "    particle_value = summed_particles / fourish\n",
    "    return particle_value\n",
    "\n",
    "\n",
    "# calculate particles in a row\n",
    "def calculate_row(array, row, col, fourish):\n",
    "    ''' calculate values for a given row\n",
    "    '''\n",
    "    array_width = array.shape[1]\n",
    "    for col in range(array_width):\n",
    "        array[row,col] = calc_particle_value(array, row, col, fourish)\n",
    "    return array"
   ]
  },
  {
   "cell_type": "code",
   "execution_count": 3,
   "metadata": {},
   "outputs": [
    {
     "name": "stdout",
     "output_type": "stream",
     "text": [
      "0\n"
     ]
    },
    {
     "ename": "NameError",
     "evalue": "name 'col' is not defined",
     "output_type": "error",
     "traceback": [
      "\u001b[0;31m---------------------------------------------------------------------------\u001b[0m",
      "\u001b[0;31mNameError\u001b[0m                                 Traceback (most recent call last)",
      "\u001b[0;32m<ipython-input-3-64f3fa2fac46>\u001b[0m in \u001b[0;36m<module>\u001b[0;34m\u001b[0m\n\u001b[1;32m     31\u001b[0m \u001b[0;34m\u001b[0m\u001b[0m\n\u001b[1;32m     32\u001b[0m     \u001b[0;32mfor\u001b[0m \u001b[0mrow\u001b[0m \u001b[0;32min\u001b[0m \u001b[0mrange\u001b[0m\u001b[0;34m(\u001b[0m\u001b[0mrow_size\u001b[0m \u001b[0;34m-\u001b[0m \u001b[0;36m1\u001b[0m\u001b[0;34m)\u001b[0m\u001b[0;34m:\u001b[0m\u001b[0;34m\u001b[0m\u001b[0;34m\u001b[0m\u001b[0m\n\u001b[0;32m---> 33\u001b[0;31m         \u001b[0mfire\u001b[0m \u001b[0;34m=\u001b[0m \u001b[0mcalculate_row\u001b[0m\u001b[0;34m(\u001b[0m\u001b[0mfire_array\u001b[0m\u001b[0;34m,\u001b[0m \u001b[0mrow\u001b[0m\u001b[0;34m,\u001b[0m \u001b[0mcol\u001b[0m\u001b[0;34m,\u001b[0m \u001b[0mfourish\u001b[0m\u001b[0;34m)\u001b[0m\u001b[0;34m\u001b[0m\u001b[0;34m\u001b[0m\u001b[0m\n\u001b[0m\u001b[1;32m     34\u001b[0m \u001b[0;34m\u001b[0m\u001b[0m\n\u001b[1;32m     35\u001b[0m     \u001b[0mfire_drop_bottom_rows\u001b[0m \u001b[0;34m=\u001b[0m \u001b[0mfire\u001b[0m\u001b[0;34m[\u001b[0m\u001b[0;36m0\u001b[0m\u001b[0;34m:\u001b[0m\u001b[0mrow_size\u001b[0m \u001b[0;34m-\u001b[0m \u001b[0;36m10\u001b[0m\u001b[0;34m,\u001b[0m\u001b[0;34m:\u001b[0m\u001b[0;34m]\u001b[0m\u001b[0;34m\u001b[0m\u001b[0;34m\u001b[0m\u001b[0m\n",
      "\u001b[0;31mNameError\u001b[0m: name 'col' is not defined"
     ]
    },
    {
     "data": {
      "text/plain": [
       "<Figure size 432x288 with 0 Axes>"
      ]
     },
     "metadata": {},
     "output_type": "display_data"
    }
   ],
   "source": [
    "# Fire parameters\n",
    "iterations = 1000\n",
    "row_size   = 100 \n",
    "col_size   = 400\n",
    "fourish    = 4.14\n",
    "\n",
    "\n",
    "# Initialise an array \n",
    "bottom_row = row_size - 1\n",
    "fire_array = np.zeros((row_size, col_size))\n",
    "for i in range(col_size):\n",
    "    fire_array[bottom_row, i] = np.random.uniform()\n",
    "\n",
    "    \n",
    "# set up camera\n",
    "fig = plt.figure()\n",
    "camera = Camera(fig)\n",
    " \n",
    "time_list = []\n",
    "    \n",
    "# Calculate from top to bottom\n",
    "for i in range(iterations):\n",
    "    \n",
    "    # Start Timer\n",
    "    start_time = time.process_time()\n",
    "   \n",
    "    if i % 100 == 0:\n",
    "        print(i)\n",
    "\n",
    "    fire_array[row_size -1,:] = abs(np.random.randn(1,col_size))\n",
    "\n",
    "    for row in range(row_size - 1):        \n",
    "        fire = calculate_row(fire_array, row, col, fourish)\n",
    "        \n",
    "    fire_drop_bottom_rows = fire[0:row_size - 10,:]\n",
    "    \n",
    "    plt.imshow(fire_drop_bottom_rows)\n",
    "    plt.set_cmap('hot')\n",
    "    plt.axis('off')\n",
    "    \n",
    "    camera.snap()\n",
    "    \n",
    "    # Calculate time and collect in list\n",
    "    time_seconds = round(time.process_time() - start_time,2)\n",
    "    time_list.append(time_seconds)\n",
    "\n",
    "    \n",
    "# Generate Fire html5_video\n",
    "anim = camera.animate(blit=False)\n",
    "HTML(anim.to_html5_video())"
   ]
  },
  {
   "cell_type": "code",
   "execution_count": null,
   "metadata": {},
   "outputs": [],
   "source": [
    "# Time per iteration\n",
    "plt.plot(time_list)"
   ]
  },
  {
   "cell_type": "code",
   "execution_count": null,
   "metadata": {},
   "outputs": [],
   "source": []
  },
  {
   "cell_type": "code",
   "execution_count": 16,
   "metadata": {},
   "outputs": [],
   "source": [
    "import numpy as np"
   ]
  },
  {
   "cell_type": "code",
   "execution_count": 24,
   "metadata": {},
   "outputs": [],
   "source": [
    "tall = 10*10"
   ]
  },
  {
   "cell_type": "code",
   "execution_count": 25,
   "metadata": {},
   "outputs": [],
   "source": [
    "small = 10*0.01"
   ]
  },
  {
   "cell_type": "code",
   "execution_count": 26,
   "metadata": {},
   "outputs": [],
   "source": [
    "all = tall + small "
   ]
  },
  {
   "cell_type": "code",
   "execution_count": 27,
   "metadata": {},
   "outputs": [
    {
     "data": {
      "text/plain": [
       "5.005"
      ]
     },
     "execution_count": 27,
     "metadata": {},
     "output_type": "execute_result"
    }
   ],
   "source": [
    "all/20"
   ]
  },
  {
   "cell_type": "code",
   "execution_count": 38,
   "metadata": {},
   "outputs": [
    {
     "name": "stdout",
     "output_type": "stream",
     "text": [
      "33 36\n"
     ]
    }
   ],
   "source": [
    "Ne_rate = round((5689 / 17280) * 100)\n",
    "Se_rate = round((3674 / 10230) * 100)\n",
    "\n",
    "print(Ne_rate, Se_rate)"
   ]
  },
  {
   "cell_type": "code",
   "execution_count": null,
   "metadata": {},
   "outputs": [],
   "source": []
  }
 ],
 "metadata": {
  "kernelspec": {
   "display_name": "Python 3",
   "language": "python",
   "name": "python3"
  },
  "language_info": {
   "codemirror_mode": {
    "name": "ipython",
    "version": 3
   },
   "file_extension": ".py",
   "mimetype": "text/x-python",
   "name": "python",
   "nbconvert_exporter": "python",
   "pygments_lexer": "ipython3",
   "version": "3.7.6"
  }
 },
 "nbformat": 4,
 "nbformat_minor": 4
}
