{
 "cells": [
  {
   "cell_type": "markdown",
   "metadata": {},
   "source": [
    "# Tensorflow Cert - Study Plan\n",
    "\n",
    "- toc: true\n",
    "- badges: False\n",
    "- comments: true\n",
    "- author: Sam Treacy\n",
    "- categories: [Keras, CNN, Tensorflow, study, python]"
   ]
  },
  {
   "cell_type": "markdown",
   "metadata": {},
   "source": [
    "## Books"
   ]
  },
  {
   "cell_type": "markdown",
   "metadata": {},
   "source": [
    "- Deep learning with Python\n",
    "- Hands on Machine Learning"
   ]
  },
  {
   "cell_type": "markdown",
   "metadata": {},
   "source": [
    "## Courses"
   ]
  },
  {
   "cell_type": "markdown",
   "metadata": {},
   "source": [
    "- Coursera: TensorFlow in Practice Specialization\n",
    "- MIT: MIT 6.S191 Introduction to Deep Learning\n",
    "- Udemy: Tensorflow 2\n",
    "- Udemy: Machine Learning\n",
    "- Udemy: learning python for data analysis and visualisation"
   ]
  },
  {
   "cell_type": "markdown",
   "metadata": {},
   "source": [
    "## Example problems"
   ]
  },
  {
   "cell_type": "markdown",
   "metadata": {},
   "source": [
    "- https://www.tensorflow.org/tutorials/images/classification\n",
    "- https://www.tensorflow.org/tutorials/text/word_embeddings"
   ]
  },
  {
   "cell_type": "markdown",
   "metadata": {},
   "source": [
    "## Topics"
   ]
  },
  {
   "cell_type": "markdown",
   "metadata": {},
   "source": [
    "- Tensorflow Datasets\n",
    "- ANN binary, multi-class, regression, multi-regression\n",
    "- CNN Transfer learning\n",
    "- CNN ImageDataGenerator\n",
    "- CNN Conv2D, MaxPool, Optimisers\n",
    "- CNN binary, multi-class\n",
    "- CNN view Conv2D filters in row\n",
    "- CNN single and multi object detection\n",
    "- RNN LSTM\n",
    "- RNN bag of words\n",
    "- RNN Word embeddings\n",
    "- RNN music/text/audio generations\n",
    "- Tensorflow\n",
    "- Autoencoders (dimensionality reduciton, anomoly detection, image denoising\n",
    "- GANs\n"
   ]
  },
  {
   "cell_type": "markdown",
   "metadata": {},
   "source": [
    "## Data Sets"
   ]
  },
  {
   "cell_type": "markdown",
   "metadata": {},
   "source": [
    "- Cats and Dogs\n",
    "- Marlaria Cells\n",
    "- MNIST fashion\n",
    "- MNIST digits\n",
    "- Cifar10 animals, cars, planes\n",
    "- Cifar100\n",
    "- Titanic\n",
    "- Iris\n",
    "- Breast Cancer\n",
    "- Boston Houses"
   ]
  },
  {
   "cell_type": "markdown",
   "metadata": {},
   "source": [
    "## Memorise Exercises"
   ]
  },
  {
   "cell_type": "markdown",
   "metadata": {},
   "source": [
    "- all Jose portilla\n",
    "- all coursera\n",
    "- all MIT\n",
    "- all deep learning with python\n",
    "- all hands-on machine learning NNs\n",
    "- 2 above Tf examples"
   ]
  },
  {
   "cell_type": "markdown",
   "metadata": {},
   "source": [
    "#### (1) Build and train neural network models using TensorFlow 2.x\n",
    "- ❏ UseTensorFlow2.x.\n",
    "- ❏ Build, compile and train machine learning (ML) models using TensorFlow.\n",
    "- ❏ Preprocess data to get it ready for use in a model.\n",
    "- ❏ Use models to predict results.\n",
    "- ❏ Build sequential models with multiplelayers.\n",
    "- ❏ Build and train models for binary classification.\n",
    "- ❏ Build and train models for multi-classcategorization.\n",
    "- ❏ Plot loss and accuracy of a trained model.\n",
    "- ❏ Identify strategies to prevent over fitting, including augmentation and dropout.\n",
    "- ❏ Use pretrained models (transfer learning).\n",
    "- ❏ Extract features from pre-trained models.\n",
    "- ❏ Ensure that inputs to a model are in the correct shape.\n",
    "- ❏ Ensure that you can match test data to the input shape of a neural network.\n",
    "- ❏ Ensure you can match output data of a neural network to specified input shape for test data. \n",
    "- ❏ Understand batch loading of data.\n",
    "- ❏ Use callbacks to trigger the end of training cycles.\n",
    "- ❏ Use datasets from different sources.\n",
    "- ❏ Use datasets in different formats, including json and csv.\n",
    "- ❏ Use datasets from tf.data.datasets.\n",
    "\n",
    "#### (2) Image classification\n",
    "- ❏ Define Convolutional neural networks with Conv2D and pooling layers. \n",
    "- ❏ Build and train models to process real-world image datasets.\n",
    "- ❏ Understand how to use convolutions to improve your neural network. \n",
    "- ❏ Use real-world images in different shapes and sizes..\n",
    "- ❏ Use image augmentation to prevent overfitting.\n",
    "- ❏ Use ImageDataGenerator.\n",
    "- ❏ Understand how ImageDataGenerator labels images based on the directory structure.\n",
    "\n",
    "#### (3) Natural language processing (NLP)\n",
    "- ❏ Build natural language processing systems using TensorFlow.\n",
    "- ❏ Prepare text to use in TensorFlowmodels.\n",
    "- ❏ Build models that identify the category of a piece of text using binary categorization\n",
    "- ❏ Build models that identify the category of a piece of text using multi-classcategorization \n",
    "- ❏ Use word embeddings in your TensorFlow model.\n",
    "- ❏ Use LSTMs in your model to classify text for either binary or multi-class categorization. \n",
    "- ❏ Add RNN and GRU layers to your model.\n",
    "- ❏ Use RNNS, LSTMs, GRUs and CNNs in models that work with text.\n",
    "- ❏ Train LSTMs on existing text to generate text(such as songs and poetry)\n",
    "\n",
    "#### (4) Time series, sequences and predictions\n",
    "- ❏ Train, tune and use timeseries, sequence and prediction models.\n",
    "- ❏ Prepare data for timeseries learning.\n",
    "- ❏ Understand MeanAverageError (MAE) and how it can be used to evaluate accuracy of sequence models.\n",
    "- ❏ Use RNNs and CNNs for time series, sequence and forecasting models.\n",
    "- ❏ Identify when to use trailing versus centred windows.\n",
    "- ❏ Use TensorFlow for forecasting.\n",
    "- ❏ Prepare features and labels.\n",
    "- ❏ Identify and compensate for sequence bias.\n",
    "- ❏ Adjust the learning rate dynamically in timeseries, sequence and prediction models.\n"
   ]
  }
 ],
 "metadata": {
  "kernelspec": {
   "display_name": "Python 3",
   "language": "python",
   "name": "python3"
  },
  "language_info": {
   "codemirror_mode": {
    "name": "ipython",
    "version": 3
   },
   "file_extension": ".py",
   "mimetype": "text/x-python",
   "name": "python",
   "nbconvert_exporter": "python",
   "pygments_lexer": "ipython3",
   "version": "3.7.9"
  }
 },
 "nbformat": 4,
 "nbformat_minor": 4
}
