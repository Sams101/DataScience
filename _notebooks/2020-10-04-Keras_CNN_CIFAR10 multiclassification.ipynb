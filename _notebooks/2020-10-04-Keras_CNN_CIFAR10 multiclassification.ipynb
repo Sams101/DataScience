{
 "cells": [
  {
   "cell_type": "markdown",
   "metadata": {},
   "source": [
    "# Keras CNN - CIFAR-10 Multiple Classification\n",
    "\n",
    "- toc: true\n",
    "- badges: False\n",
    "- comments: true\n",
    "- author: Sam Treacy\n",
    "- categories: [Keras, CNN, Tensorflow, classification, python]"
   ]
  },
  {
   "cell_type": "code",
   "execution_count": 91,
   "metadata": {},
   "outputs": [],
   "source": [
    "import pandas as pd\n",
    "import numpy as np\n",
    "import matplotlib.pyplot as plt"
   ]
  },
  {
   "cell_type": "code",
   "execution_count": 92,
   "metadata": {},
   "outputs": [],
   "source": [
    "from tensorflow.keras.datasets import cifar10\n",
    "\n",
    "(X_train, y_train), (X_test, y_test) = cifar10.load_data()"
   ]
  },
  {
   "cell_type": "code",
   "execution_count": 93,
   "metadata": {},
   "outputs": [
    {
     "data": {
      "text/plain": [
       "(50000, 32, 32, 3)"
      ]
     },
     "execution_count": 93,
     "metadata": {},
     "output_type": "execute_result"
    }
   ],
   "source": [
    "X_train.shape"
   ]
  },
  {
   "cell_type": "code",
   "execution_count": 94,
   "metadata": {},
   "outputs": [
    {
     "data": {
      "image/png": "[encoded data removed]",
      "text/plain": [
       "<Figure size 432x288 with 1 Axes>"
      ]
     },
     "metadata": {
      "needs_background": "light"
     },
     "output_type": "display_data"
    }
   ],
   "source": [
    "plt.imshow(X_train[4]);"
   ]
  },
  {
   "cell_type": "markdown",
   "metadata": {},
   "source": [
    "# Normalise Data"
   ]
  },
  {
   "cell_type": "code",
   "execution_count": 95,
   "metadata": {},
   "outputs": [
    {
     "data": {
      "text/plain": [
       "(255,)"
      ]
     },
     "execution_count": 95,
     "metadata": {},
     "output_type": "execute_result"
    }
   ],
   "source": [
    "X_train.max(), "
   ]
  },
  {
   "cell_type": "code",
   "execution_count": 96,
   "metadata": {},
   "outputs": [],
   "source": [
    "X_train = X_train/255\n",
    "X_test  = X_test/255"
   ]
  },
  {
   "cell_type": "markdown",
   "metadata": {},
   "source": [
    "# Label Data"
   ]
  },
  {
   "cell_type": "code",
   "execution_count": 97,
   "metadata": {},
   "outputs": [],
   "source": [
    "from tensorflow.keras.utils import to_categorical"
   ]
  },
  {
   "cell_type": "code",
   "execution_count": 98,
   "metadata": {},
   "outputs": [
    {
     "data": {
      "text/plain": [
       "9"
      ]
     },
     "execution_count": 98,
     "metadata": {},
     "output_type": "execute_result"
    }
   ],
   "source": [
    "y_train.max()"
   ]
  },
  {
   "cell_type": "code",
   "execution_count": 99,
   "metadata": {},
   "outputs": [],
   "source": [
    "y_train = to_categorical(y_train, 10)\n",
    "y_test  = to_categorical(y_test , 10)"
   ]
  },
  {
   "cell_type": "markdown",
   "metadata": {},
   "source": [
    "# Build Model"
   ]
  },
  {
   "cell_type": "code",
   "execution_count": 100,
   "metadata": {},
   "outputs": [],
   "source": [
    "from tensorflow.keras.models import Sequential\n",
    "from tensorflow.keras.layers import Dense, Conv2D, Activation, MaxPool2D, Flatten"
   ]
  },
  {
   "cell_type": "code",
   "execution_count": 101,
   "metadata": {},
   "outputs": [],
   "source": [
    "model = Sequential()\n",
    "\n",
    "model.add(Conv2D(filters=32, kernel_size=(4,4), activation='relu', input_shape=(32,32,3)))\n",
    "model.add(MaxPool2D(2,2))\n",
    "model.add(Conv2D(filters=32, kernel_size=(4,4), activation='relu', input_shape=(32,32,3)))\n",
    "model.add(MaxPool2D(2,2))\n",
    "\n",
    "model.add(Flatten())\n",
    "model.add(Dense(256, activation='relu'))\n",
    "model.add(Dense(10,  activation='softmax'))\n",
    "\n",
    "model.compile(loss='categorical_crossentropy',\n",
    "              optimizer='rmsprop', \n",
    "              metrics=['accuracy'])"
   ]
  },
  {
   "cell_type": "code",
   "execution_count": 102,
   "metadata": {},
   "outputs": [
    {
     "name": "stdout",
     "output_type": "stream",
     "text": [
      "Model: \"sequential_2\"\n",
      "_________________________________________________________________\n",
      "Layer (type)                 Output Shape              Param #   \n",
      "=================================================================\n",
      "conv2d_4 (Conv2D)            (None, 29, 29, 32)        1568      \n",
      "_________________________________________________________________\n",
      "max_pooling2d_4 (MaxPooling2 (None, 14, 14, 32)        0         \n",
      "_________________________________________________________________\n",
      "conv2d_5 (Conv2D)            (None, 11, 11, 32)        16416     \n",
      "_________________________________________________________________\n",
      "max_pooling2d_5 (MaxPooling2 (None, 5, 5, 32)          0         \n",
      "_________________________________________________________________\n",
      "flatten_2 (Flatten)          (None, 800)               0         \n",
      "_________________________________________________________________\n",
      "dense_4 (Dense)              (None, 256)               205056    \n",
      "_________________________________________________________________\n",
      "dense_5 (Dense)              (None, 10)                2570      \n",
      "=================================================================\n",
      "Total params: 225,610\n",
      "Trainable params: 225,610\n",
      "Non-trainable params: 0\n",
      "_________________________________________________________________\n"
     ]
    }
   ],
   "source": [
    "model.summary()"
   ]
  },
  {
   "cell_type": "code",
   "execution_count": 103,
   "metadata": {},
   "outputs": [],
   "source": [
    "from tensorflow.keras.callbacks import EarlyStopping"
   ]
  },
  {
   "cell_type": "code",
   "execution_count": 104,
   "metadata": {},
   "outputs": [],
   "source": [
    "early_stop = EarlyStopping(monitor='val_loss', patience=4)"
   ]
  },
  {
   "cell_type": "code",
   "execution_count": 105,
   "metadata": {},
   "outputs": [
    {
     "name": "stdout",
     "output_type": "stream",
     "text": [
      "Train on 50000 samples, validate on 10000 samples\n",
      "Epoch 1/20\n",
      "50000/50000 [==============================] - 26s 526us/sample - loss: 1.9519 - accuracy: 0.3024 - val_loss: 2.1164 - val_accuracy: 0.2693\n",
      "Epoch 2/20\n",
      "50000/50000 [==============================] - 24s 471us/sample - loss: 1.6544 - accuracy: 0.4150 - val_loss: 1.6044 - val_accuracy: 0.4418\n",
      "Epoch 3/20\n",
      "50000/50000 [==============================] - 22s 450us/sample - loss: 1.5079 - accuracy: 0.4694 - val_loss: 1.3855 - val_accuracy: 0.5176\n",
      "Epoch 4/20\n",
      "50000/50000 [==============================] - 24s 479us/sample - loss: 1.4067 - accuracy: 0.5047 - val_loss: 1.3563 - val_accuracy: 0.5168\n",
      "Epoch 5/20\n",
      "50000/50000 [==============================] - 24s 474us/sample - loss: 1.3298 - accuracy: 0.5361 - val_loss: 1.2736 - val_accuracy: 0.5526\n",
      "Epoch 6/20\n",
      "50000/50000 [==============================] - 24s 475us/sample - loss: 1.2627 - accuracy: 0.5588 - val_loss: 1.2547 - val_accuracy: 0.5565\n",
      "Epoch 7/20\n",
      "50000/50000 [==============================] - 23s 460us/sample - loss: 1.2135 - accuracy: 0.5789 - val_loss: 1.1838 - val_accuracy: 0.5852\n",
      "Epoch 8/20\n",
      "50000/50000 [==============================] - 23s 460us/sample - loss: 1.1594 - accuracy: 0.5952 - val_loss: 1.1685 - val_accuracy: 0.5939\n",
      "Epoch 9/20\n",
      "50000/50000 [==============================] - 24s 471us/sample - loss: 1.1193 - accuracy: 0.6114 - val_loss: 1.1167 - val_accuracy: 0.6154\n",
      "Epoch 10/20\n",
      "50000/50000 [==============================] - 30s 597us/sample - loss: 1.0799 - accuracy: 0.6241 - val_loss: 1.0816 - val_accuracy: 0.6262\n",
      "Epoch 11/20\n",
      "50000/50000 [==============================] - 27s 540us/sample - loss: 1.0402 - accuracy: 0.6414 - val_loss: 1.0576 - val_accuracy: 0.6281\n",
      "Epoch 12/20\n",
      "50000/50000 [==============================] - 23s 468us/sample - loss: 1.0041 - accuracy: 0.6527 - val_loss: 1.0503 - val_accuracy: 0.6382\n",
      "Epoch 13/20\n",
      "50000/50000 [==============================] - 24s 471us/sample - loss: 0.9675 - accuracy: 0.6637 - val_loss: 1.0547 - val_accuracy: 0.6341\n",
      "Epoch 14/20\n",
      "50000/50000 [==============================] - 23s 470us/sample - loss: 0.9371 - accuracy: 0.6747 - val_loss: 1.0385 - val_accuracy: 0.6376\n",
      "Epoch 15/20\n",
      "50000/50000 [==============================] - 23s 465us/sample - loss: 0.8996 - accuracy: 0.6883 - val_loss: 1.0758 - val_accuracy: 0.6306\n",
      "Epoch 16/20\n",
      "50000/50000 [==============================] - 23s 459us/sample - loss: 0.8726 - accuracy: 0.7005 - val_loss: 1.1459 - val_accuracy: 0.6130\n",
      "Epoch 17/20\n",
      "50000/50000 [==============================] - 23s 469us/sample - loss: 0.8357 - accuracy: 0.7116 - val_loss: 1.0751 - val_accuracy: 0.6276\n",
      "Epoch 18/20\n",
      "50000/50000 [==============================] - 22s 440us/sample - loss: 0.8131 - accuracy: 0.7188 - val_loss: 0.9483 - val_accuracy: 0.6722\n",
      "Epoch 19/20\n",
      "50000/50000 [==============================] - 23s 466us/sample - loss: 0.7866 - accuracy: 0.7296 - val_loss: 0.9500 - val_accuracy: 0.6725\n",
      "Epoch 20/20\n",
      "50000/50000 [==============================] - 24s 471us/sample - loss: 0.7566 - accuracy: 0.7388 - val_loss: 1.0179 - val_accuracy: 0.6590\n"
     ]
    },
    {
     "data": {
      "text/plain": [
       "<tensorflow.python.keras.callbacks.History at 0x7f981b631510>"
      ]
     },
     "execution_count": 105,
     "metadata": {},
     "output_type": "execute_result"
    }
   ],
   "source": [
    "model.fit(X_train, y_train, epochs=20, batch_size=516,\n",
    "          validation_data=(X_test, y_test),\n",
    "          callbacks = [early_stop],\n",
    "          verbose= 1)"
   ]
  },
  {
   "cell_type": "code",
   "execution_count": 107,
   "metadata": {},
   "outputs": [],
   "source": [
    "losses = pd.DataFrame(model.history.history)"
   ]
  },
  {
   "cell_type": "code",
   "execution_count": 108,
   "metadata": {},
   "outputs": [
    {
     "data": {
      "text/plain": [
       "<AxesSubplot:>"
      ]
     },
     "execution_count": 108,
     "metadata": {},
     "output_type": "execute_result"
    },
    {
     "data": {
      "image/png": "[encoded data removed]",
      "text/plain": [
       "<Figure size 432x288 with 1 Axes>"
      ]
     },
     "metadata": {
      "needs_background": "light"
     },
     "output_type": "display_data"
    }
   ],
   "source": [
    "losses[['loss', 'val_loss']].plot()"
   ]
  },
  {
   "cell_type": "code",
   "execution_count": 109,
   "metadata": {},
   "outputs": [
    {
     "data": {
      "text/plain": [
       "<AxesSubplot:>"
      ]
     },
     "execution_count": 109,
     "metadata": {},
     "output_type": "execute_result"
    },
    {
     "data": {
      "image/png": "[encoded data removed]",
      "text/plain": [
       "<Figure size 432x288 with 1 Axes>"
      ]
     },
     "metadata": {
      "needs_background": "light"
     },
     "output_type": "display_data"
    }
   ],
   "source": [
    "losses[['accuracy', 'val_accuracy']].plot()"
   ]
  },
  {
   "cell_type": "code",
   "execution_count": 110,
   "metadata": {},
   "outputs": [
    {
     "data": {
      "text/plain": [
       "['loss', 'accuracy']"
      ]
     },
     "execution_count": 110,
     "metadata": {},
     "output_type": "execute_result"
    }
   ],
   "source": [
    "model.metrics_names"
   ]
  },
  {
   "cell_type": "code",
   "execution_count": 111,
   "metadata": {},
   "outputs": [
    {
     "name": "stdout",
     "output_type": "stream",
     "text": [
      "['loss', 'accuracy']\n",
      "[1.0178816331863403, 0.659]\n"
     ]
    }
   ],
   "source": [
    "print(model.metrics_names)\n",
    "print(model.evaluate(X_test, y_test, verbose=0))"
   ]
  },
  {
   "cell_type": "code",
   "execution_count": 112,
   "metadata": {},
   "outputs": [],
   "source": [
    "from sklearn.metrics import classification_report, confusion_matrix"
   ]
  },
  {
   "cell_type": "code",
   "execution_count": 113,
   "metadata": {},
   "outputs": [
    {
     "data": {
      "text/plain": [
       "(10000, 32, 32, 3)"
      ]
     },
     "execution_count": 113,
     "metadata": {},
     "output_type": "execute_result"
    }
   ],
   "source": [
    "X_test.shape"
   ]
  },
  {
   "cell_type": "code",
   "execution_count": 114,
   "metadata": {},
   "outputs": [],
   "source": [
    "predictions = model.predict_classes(X_test)"
   ]
  },
  {
   "cell_type": "code",
   "execution_count": 115,
   "metadata": {},
   "outputs": [
    {
     "data": {
      "text/plain": [
       "array([3, 8, 8, ..., 5, 4, 7])"
      ]
     },
     "execution_count": 115,
     "metadata": {},
     "output_type": "execute_result"
    }
   ],
   "source": [
    "predictions"
   ]
  },
  {
   "cell_type": "code",
   "execution_count": 116,
   "metadata": {},
   "outputs": [
    {
     "data": {
      "text/plain": [
       "array([[0., 0., 0., ..., 0., 0., 0.],\n",
       "       [0., 0., 0., ..., 0., 1., 0.],\n",
       "       [0., 0., 0., ..., 0., 1., 0.],\n",
       "       ...,\n",
       "       [0., 0., 0., ..., 0., 0., 0.],\n",
       "       [0., 1., 0., ..., 0., 0., 0.],\n",
       "       [0., 0., 0., ..., 1., 0., 0.]], dtype=float32)"
      ]
     },
     "execution_count": 116,
     "metadata": {},
     "output_type": "execute_result"
    }
   ],
   "source": [
    "y_test"
   ]
  },
  {
   "cell_type": "code",
   "execution_count": 117,
   "metadata": {},
   "outputs": [],
   "source": [
    "y_test = y_test.argmax(axis=1)"
   ]
  },
  {
   "cell_type": "code",
   "execution_count": 118,
   "metadata": {},
   "outputs": [
    {
     "data": {
      "text/plain": [
       "array([3, 8, 8, ..., 5, 1, 7])"
      ]
     },
     "execution_count": 118,
     "metadata": {},
     "output_type": "execute_result"
    }
   ],
   "source": [
    "y_test"
   ]
  },
  {
   "cell_type": "code",
   "execution_count": 119,
   "metadata": {},
   "outputs": [
    {
     "name": "stdout",
     "output_type": "stream",
     "text": [
      "              precision    recall  f1-score   support\n",
      "\n",
      "           0       0.83      0.66      0.74      1000\n",
      "           1       0.90      0.61      0.73      1000\n",
      "           2       0.68      0.44      0.53      1000\n",
      "           3       0.45      0.57      0.51      1000\n",
      "           4       0.53      0.71      0.61      1000\n",
      "           5       0.54      0.58      0.56      1000\n",
      "           6       0.67      0.81      0.74      1000\n",
      "           7       0.81      0.63      0.71      1000\n",
      "           8       0.79      0.76      0.78      1000\n",
      "           9       0.65      0.82      0.73      1000\n",
      "\n",
      "    accuracy                           0.66     10000\n",
      "   macro avg       0.69      0.66      0.66     10000\n",
      "weighted avg       0.69      0.66      0.66     10000\n",
      "\n"
     ]
    }
   ],
   "source": [
    "print(classification_report(y_test, predictions))"
   ]
  },
  {
   "cell_type": "code",
   "execution_count": 120,
   "metadata": {},
   "outputs": [
    {
     "data": {
      "text/plain": [
       "array([[660,  14,  41,  40,  49,  18,  25,  11,  77,  65],\n",
       "       [ 15, 607,   9,  30,  17,  17,  37,   3,  50, 215],\n",
       "       [ 46,   2, 437, 112, 156,  95,  99,  29,  10,  14],\n",
       "       [  5,   4,  41, 572,  98, 159,  76,  16,  10,  19],\n",
       "       [  6,   2,  40,  84, 714,  35,  62,  40,  11,   6],\n",
       "       [  5,   2,  18, 216,  86, 580,  46,  35,   3,   9],\n",
       "       [  0,   1,  24,  72,  55,  22, 810,   8,   2,   6],\n",
       "       [  7,   0,  13,  65, 131, 107,  13, 631,   4,  29],\n",
       "       [ 34,  18,  13,  33,  32,  20,  17,   2, 759,  72],\n",
       "       [ 15,  22,  10,  36,  21,  19,  19,   8,  30, 820]])"
      ]
     },
     "execution_count": 120,
     "metadata": {},
     "output_type": "execute_result"
    }
   ],
   "source": [
    "confusion_matrix(y_test, predictions)"
   ]
  },
  {
   "cell_type": "code",
   "execution_count": 163,
   "metadata": {},
   "outputs": [
    {
     "data": {
      "image/png": "[encoded data removed]",
      "text/plain": [
       "<Figure size 864x576 with 2 Axes>"
      ]
     },
     "metadata": {
      "needs_background": "light"
     },
     "output_type": "display_data"
    }
   ],
   "source": [
    "conf_matrix = confusion_matrix(y_test, predictions) * (np.ones((10,10)) - np.eye(10))\n",
    "\n",
    "\n",
    "import seaborn as sns\n",
    "plt.figure(figsize=(12,8))\n",
    "sns.heatmap(conf_matrix, annot=True);"
   ]
  },
  {
   "cell_type": "markdown",
   "metadata": {},
   "source": [
    "# Predicing a specific image"
   ]
  },
  {
   "cell_type": "code",
   "execution_count": 166,
   "metadata": {},
   "outputs": [
    {
     "data": {
      "image/png": "[encoded data removed]",
      "text/plain": [
       "<Figure size 432x288 with 1 Axes>"
      ]
     },
     "metadata": {
      "needs_background": "light"
     },
     "output_type": "display_data"
    }
   ],
   "source": [
    "new_image = X_test[8]\n",
    "\n",
    "plt.imshow(new_image);"
   ]
  },
  {
   "cell_type": "code",
   "execution_count": 165,
   "metadata": {},
   "outputs": [
    {
     "data": {
      "text/plain": [
       "array([3])"
      ]
     },
     "execution_count": 165,
     "metadata": {},
     "output_type": "execute_result"
    }
   ],
   "source": [
    "model.predict_classes(new_image.reshape(1,32,32,3))"
   ]
  },
  {
   "cell_type": "code",
   "execution_count": null,
   "metadata": {},
   "outputs": [],
   "source": []
  },
  {
   "cell_type": "code",
   "execution_count": null,
   "metadata": {},
   "outputs": [],
   "source": []
  },
  {
   "cell_type": "code",
   "execution_count": null,
   "metadata": {},
   "outputs": [],
   "source": []
  },
  {
   "cell_type": "code",
   "execution_count": null,
   "metadata": {},
   "outputs": [],
   "source": []
  },
  {
   "cell_type": "code",
   "execution_count": null,
   "metadata": {},
   "outputs": [],
   "source": []
  }
 ],
 "metadata": {
  "kernelspec": {
   "display_name": "Python 3",
   "language": "python",
   "name": "python3"
  },
  "language_info": {
   "codemirror_mode": {
    "name": "ipython",
    "version": 3
   },
   "file_extension": ".py",
   "mimetype": "text/x-python",
   "name": "python",
   "nbconvert_exporter": "python",
   "pygments_lexer": "ipython3",
   "version": "3.7.9"
  }
 },
 "nbformat": 4,
 "nbformat_minor": 4
}
